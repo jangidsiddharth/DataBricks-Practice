{
 "cells": [
  {
   "cell_type": "markdown",
   "metadata": {
    "application/vnd.databricks.v1+cell": {
     "cellMetadata": {},
     "inputWidgets": {},
     "nuid": "aa87f689-c984-497d-a4e4-85d8eedbfe71",
     "showTitle": false,
     "tableResultSettingsMap": {},
     "title": ""
    }
   },
   "source": [
    "### Practice PySpark"
   ]
  },
  {
   "cell_type": "code",
   "execution_count": 0,
   "metadata": {
    "application/vnd.databricks.v1+cell": {
     "cellMetadata": {
      "byteLimit": 2048000,
      "rowLimit": 10000
     },
     "inputWidgets": {},
     "nuid": "68260c43-2219-4653-98be-a6a58869c9a2",
     "showTitle": false,
     "tableResultSettingsMap": {},
     "title": ""
    }
   },
   "outputs": [],
   "source": [
    "import pyspark.sql.functions as F"
   ]
  },
  {
   "cell_type": "code",
   "execution_count": 0,
   "metadata": {
    "application/vnd.databricks.v1+cell": {
     "cellMetadata": {
      "byteLimit": 2048000,
      "rowLimit": 10000
     },
     "inputWidgets": {},
     "nuid": "4546093e-0e85-4e21-9266-c1aa2c1afa5b",
     "showTitle": false,
     "tableResultSettingsMap": {},
     "title": ""
    }
   },
   "outputs": [],
   "source": [
    "dataTable =[{\"id\":1,\"name\":\"John\",\"age\":20,\"salary\":10000,\"city\":\"New York\"},{\"id\":2,\"name\":\"Pete\",\"age\":30,\"salary\":20000,\"city\":\"Los Angeles\"},{\"id\":3,\"name\":\"Amy\",\"age\":40,\"salary\":30000,\"city\":\"Chicago\"},{\"id\":4,\"name\":\"Mark\",\"age\":50,\"salary\":40000,\"city\":\"Houston\"},{\"id\":5,\"name\":\"Sara\",\"age\":60,\"salary\":50000,\"city\":\"Phoenix\"},{\"id\":6,\"name\":\"Bill\",\"age\":70,\"salary\":60000,\"city\":\"Philadelphia\"}]\n",
    "dataSchema=[\"id\",\"name\",\"age\",\"salary\",\"city\"]\n",
    "df = spark.createDataFrame(dataTable, dataSchema)\n",
    "display(df)"
   ]
  },
  {
   "cell_type": "code",
   "execution_count": 0,
   "metadata": {
    "application/vnd.databricks.v1+cell": {
     "cellMetadata": {},
     "inputWidgets": {},
     "nuid": "bf39df59-3edc-480c-aa06-caa626642ab7",
     "showTitle": false,
     "tableResultSettingsMap": {},
     "title": ""
    }
   },
   "outputs": [],
   "source": []
  }
 ],
 "metadata": {
  "application/vnd.databricks.v1+notebook": {
   "computePreferences": null,
   "dashboards": [],
   "environmentMetadata": {
    "base_environment": "",
    "environment_version": "4"
   },
   "inputWidgetPreferences": null,
   "language": "python",
   "notebookMetadata": {
    "pythonIndentUnit": 4
   },
   "notebookName": "Practice_SqL",
   "widgets": {}
  },
  "language_info": {
   "name": "python"
  }
 },
 "nbformat": 4,
 "nbformat_minor": 0
}
