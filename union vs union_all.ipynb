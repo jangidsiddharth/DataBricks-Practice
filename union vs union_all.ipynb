{
 "cells": [
  {
   "cell_type": "code",
   "execution_count": 0,
   "metadata": {
    "application/vnd.databricks.v1+cell": {
     "cellMetadata": {
      "byteLimit": 2048000,
      "rowLimit": 10000
     },
     "inputWidgets": {},
     "nuid": "138c6f4e-9c77-45ce-8748-9efbf6a0eb9d",
     "showTitle": false,
     "tableResultSettingsMap": {},
     "title": ""
    }
   },
   "outputs": [],
   "source": [
    "import pyspark\n",
    "from pyspark.sql import SparkSession\n",
    "data1 = [(1,\"sravan\",\"sravan@gmail.com\",10000,\"hyderabad\",\"abc street\"),(2,\"ojaswi\",\"ojaswi@gmail.com\",20000,\"vizag\",\"pqr street\"),(3,\"rohith\",\"rohith@gmail.com\",30000,\"vizag\",\"lmn street\"),(4,\"ramana\",\"ramana@gmail.com\",40000,\"hyderabad\",\"xyz street\"),(5,\"deepika\",\"deepika@gmail.com\",50000,\"vizag\",\"lmn street\"),(6,\"deepika\",\"deepika@gmail.com\",50000,\"vizag\",\"lmn street\")]\n",
    "columns = [\"emp_id\",\"emp_name\",\"email\",\"salary\",\"city\",\"address\"]\n",
    "df_emp = spark.createDataFrame(data = data1, schema = columns)\n",
    "df_emp.show()\n",
    "df_emp.printSchema()"
   ]
  },
  {
   "cell_type": "code",
   "execution_count": 0,
   "metadata": {
    "application/vnd.databricks.v1+cell": {
     "cellMetadata": {
      "byteLimit": 2048000,
      "rowLimit": 10000
     },
     "inputWidgets": {},
     "nuid": "0d22bea2-658a-4834-887b-435f2296fc43",
     "showTitle": false,
     "tableResultSettingsMap": {},
     "title": ""
    }
   },
   "outputs": [],
   "source": [
    "data2 = [(1,\"ojaswi\",\"ojaswi@gmail.com\",20000,\"vizag\",\"pqr street\"),(2,\"rohith\",\"rohith@gmail.com\",30000,\"vizag\",\"lmn street\"),(3,\"ramana\",\"ramana@gmail.com\",40000,\"hyderabad\",\"xyz street\"),(4,\"deepika\",\"deepika@gmail.com\",50000,\"vizag\",\"lmn street\")]\n",
    "columns2 = [\"emp_id\",\"emp_name\",\"email\",\"salary\",\"city\",\"address\"]\n",
    "df_emp2 = spark.createDataFrame(data = data2, schema = columns2)\n",
    "df_emp2.show()\n",
    "df_emp2.printSchema()"
   ]
  },
  {
   "cell_type": "code",
   "execution_count": 0,
   "metadata": {
    "application/vnd.databricks.v1+cell": {
     "cellMetadata": {
      "byteLimit": 2048000,
      "rowLimit": 10000
     },
     "inputWidgets": {},
     "nuid": "0bef3f74-3f35-4c92-9981-8093b95bf592",
     "showTitle": false,
     "tableResultSettingsMap": {},
     "title": ""
    }
   },
   "outputs": [],
   "source": [
    "df_emp.union(df_emp2).show()"
   ]
  },
  {
   "cell_type": "code",
   "execution_count": 0,
   "metadata": {
    "application/vnd.databricks.v1+cell": {
     "cellMetadata": {
      "byteLimit": 2048000,
      "rowLimit": 10000
     },
     "inputWidgets": {},
     "nuid": "522a5ada-e201-4f30-806e-7f13789a5d68",
     "showTitle": false,
     "tableResultSettingsMap": {},
     "title": ""
    }
   },
   "outputs": [],
   "source": [
    "#union all method has deprecated from spark2 so we will use of unionAll like this df_emp.union(df_emp2).distinct().show()\n",
    "df_emp.unionAll(df_emp2).show()"
   ]
  },
  {
   "cell_type": "code",
   "execution_count": 0,
   "metadata": {
    "application/vnd.databricks.v1+cell": {
     "cellMetadata": {
      "byteLimit": 2048000,
      "rowLimit": 10000
     },
     "inputWidgets": {},
     "nuid": "7b8a7fe1-d09d-4b0b-8358-ed7d82c80920",
     "showTitle": false,
     "tableResultSettingsMap": {},
     "title": ""
    }
   },
   "outputs": [],
   "source": [
    "print('**************')\n",
    "df_union = df_emp.union(df_emp2)\n",
    "df_distinct = df_union.dropDuplicates(['emp_name'])\n",
    "df_distinct.show()"
   ]
  },
  {
   "cell_type": "code",
   "execution_count": 0,
   "metadata": {
    "application/vnd.databricks.v1+cell": {
     "cellMetadata": {},
     "inputWidgets": {},
     "nuid": "6575f943-16a2-41df-b711-d1f06bc37323",
     "showTitle": false,
     "tableResultSettingsMap": {},
     "title": ""
    }
   },
   "outputs": [],
   "source": []
  }
 ],
 "metadata": {
  "application/vnd.databricks.v1+notebook": {
   "computePreferences": null,
   "dashboards": [],
   "environmentMetadata": {
    "base_environment": "",
    "environment_version": "3"
   },
   "inputWidgetPreferences": null,
   "language": "python",
   "notebookMetadata": {
    "pythonIndentUnit": 4
   },
   "notebookName": "union vs union_all",
   "widgets": {}
  },
  "language_info": {
   "name": "python"
  }
 },
 "nbformat": 4,
 "nbformat_minor": 0
}
