{
 "cells": [
  {
   "cell_type": "code",
   "execution_count": 0,
   "metadata": {
    "application/vnd.databricks.v1+cell": {
     "cellMetadata": {
      "byteLimit": 2048000,
      "rowLimit": 10000
     },
     "inputWidgets": {},
     "nuid": "7b01efa3-3b50-4dc0-b8ff-beea0edda022",
     "showTitle": false,
     "tableResultSettingsMap": {},
     "title": ""
    }
   },
   "outputs": [],
   "source": [
    "#pivot and unpivot methods work like matrix transformation.\n",
    "#pivot convert row into column with unique items.\n",
    "#unpivot convert column into row.\n",
    "data1 = [('Banana',1000,'USA'),('Banana',400,'India'),('Kiwi',100,'Newzeland'),('Kiwi',400,'USA'),('Kiwi',1000,'India'),('Orange',100,'India'),('Orange',400,'China'),('Kiwi',500,'China')]\n",
    "columns =['Product','Amount','Country']\n",
    "df = spark.createDataFrame(data1,columns)\n",
    "df.show()"
   ]
  },
  {
   "cell_type": "code",
   "execution_count": 0,
   "metadata": {
    "application/vnd.databricks.v1+cell": {
     "cellMetadata": {
      "byteLimit": 2048000,
      "rowLimit": 10000
     },
     "inputWidgets": {},
     "nuid": "5422ca43-9d90-49ee-b479-d92955a7b210",
     "showTitle": false,
     "tableResultSettingsMap": {},
     "title": ""
    }
   },
   "outputs": [],
   "source": [
    "pivot_df = df.groupBy(\"Product\").pivot(\"Country\").sum(\"Amount\")\n",
    "pivot_df.show()"
   ]
  },
  {
   "cell_type": "code",
   "execution_count": 0,
   "metadata": {
    "application/vnd.databricks.v1+cell": {
     "cellMetadata": {
      "byteLimit": 2048000,
      "rowLimit": 10000
     },
     "inputWidgets": {},
     "nuid": "797d4e4a-959d-4dc2-bed4-97020c58039d",
     "showTitle": false,
     "tableResultSettingsMap": {},
     "title": ""
    }
   },
   "outputs": [],
   "source": [
    "from pyspark.sql.functions import expr\n",
    "unpivot_expr_string = \"stack(4, 'China', China, 'India', India, 'Newzeland', Newzeland, 'USA', USA) as (Country, Amount)\"\n",
    "unpivot_df = pivot_df.select(\"Product\", expr(unpivot_expr_string))\n",
    "\n",
    "unpivot_df.show()"
   ]
  }
 ],
 "metadata": {
  "application/vnd.databricks.v1+notebook": {
   "computePreferences": null,
   "dashboards": [],
   "environmentMetadata": {
    "base_environment": "",
    "environment_version": "3"
   },
   "inputWidgetPreferences": null,
   "language": "python",
   "notebookMetadata": {
    "pythonIndentUnit": 4
   },
   "notebookName": "Pivot vs UnPivot",
   "widgets": {}
  },
  "language_info": {
   "name": "python"
  }
 },
 "nbformat": 4,
 "nbformat_minor": 0
}
